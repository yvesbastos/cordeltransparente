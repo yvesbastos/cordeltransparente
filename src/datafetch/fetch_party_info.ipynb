{
 "cells": [
  {
   "cell_type": "code",
   "execution_count": 1,
   "metadata": {
    "collapsed": true
   },
   "outputs": [],
   "source": [
    "import requests \n",
    "import csv\n",
    "from bs4 import BeautifulSoup\n",
    "import numpy as np\n",
    "import pandas as pd\n",
    "import re \n",
    "pd.set_option('display.max_colwidth', 1000)"
   ]
  },
  {
   "cell_type": "code",
   "execution_count": 2,
   "metadata": {
    "collapsed": true
   },
   "outputs": [],
   "source": [
    "#Getting the HTML and isolating the section we need \n",
    "tse_parties = requests.get(\"http://www.tse.jus.br/partidos/partidos-politicos/registrados-no-tse\")\n",
    "tse_soup = BeautifulSoup(tse_parties.content, 'html.parser')\n",
    "tse_soup_content = tse_soup.find_all(class_='documentContent')[0]#.get_text()\n",
    "parties = tse_soup.find(\"caption\", string=\"Partidos registrados no TSE\").find_parent(\"table\")"
   ]
  },
  {
   "cell_type": "code",
   "execution_count": 3,
   "metadata": {
    "collapsed": true
   },
   "outputs": [],
   "source": [
    "#Interpreting the data to save in a .csv\n",
    "headers = \"\"\n",
    "for val in parties.find_all('th'):\n",
    "    headers += val.text + ','\n",
    "headers = headers[:-1]\n",
    "                  \n",
    "# Adding 'Função em exercício' header for optional columns:\n",
    "headers = headers.split(',')\n",
    "headers.insert(-1,'FUNÇÃO EM EXERCÍCIO')\n",
    "headers = ','.join(headers)\n",
    "\n",
    "# Extracting rows:\n",
    "rows = []\n",
    "for row in parties.find_all('tr'):\n",
    "    row1 = \"\"\n",
    "    for val in row.find_all('td'):\n",
    "        row1 += val.text + ','\n",
    "    row1 = row1[:-1]\n",
    "    row_split = row1.split(',')\n",
    "    if len(row_split) < len(headers.split(',')):\n",
    "        row_split.insert(-1,'')\n",
    "        row1 = ','.join(row_split)   \n",
    "    rows.append(row1)\n",
    "rows = rows[1:]\n",
    "\n",
    "#Removing last line\n",
    "rows = rows[:-1]\n",
    "with open('parties.csv', 'w') as f:\n",
    "    writer = csv.writer(f, delimiter = '\\n')\n",
    "    writer.writerow([headers])\n",
    "    for row in rows:\n",
    "        writer.writerow([row])#(row)"
   ]
  },
  {
   "cell_type": "code",
   "execution_count": 4,
   "metadata": {},
   "outputs": [
    {
     "data": {
      "text/html": [
       "<div>\n",
       "<style>\n",
       "    .dataframe thead tr:only-child th {\n",
       "        text-align: right;\n",
       "    }\n",
       "\n",
       "    .dataframe thead th {\n",
       "        text-align: left;\n",
       "    }\n",
       "\n",
       "    .dataframe tbody tr th {\n",
       "        vertical-align: top;\n",
       "    }\n",
       "</style>\n",
       "<table border=\"1\" class=\"dataframe\">\n",
       "  <thead>\n",
       "    <tr style=\"text-align: right;\">\n",
       "      <th></th>\n",
       "      <th>0001</th>\n",
       "      <th>SIGLA</th>\n",
       "      <th>NOME</th>\n",
       "      <th>DEFERIMENTO</th>\n",
       "      <th>PRES. NACIONAL</th>\n",
       "      <th>FUNÇÃO EM EXERCÍCIO</th>\n",
       "      <th>Nº DA LEGENDA</th>\n",
       "      <th>tseurl</th>\n",
       "    </tr>\n",
       "  </thead>\n",
       "  <tbody>\n",
       "    <tr>\n",
       "      <th>0</th>\n",
       "      <td>1</td>\n",
       "      <td>PMDB</td>\n",
       "      <td>PARTIDO DO MOVIMENTO DEMOCRÁTICO BRASILEIRO</td>\n",
       "      <td>30.6.1981</td>\n",
       "      <td>ROMERO JUCÁ</td>\n",
       "      <td>no exercício da presidência</td>\n",
       "      <td>15</td>\n",
       "      <td>http://www.tse.jus.br/partidos/partidos-politicos/partido-do-movimento-democratico-brasileiro</td>\n",
       "    </tr>\n",
       "    <tr>\n",
       "      <th>1</th>\n",
       "      <td>2</td>\n",
       "      <td>PTB</td>\n",
       "      <td>PARTIDO TRABALHISTA BRASILEIRO</td>\n",
       "      <td>3.11.1981</td>\n",
       "      <td>ROBERTO JEFFERSON MONTEIRO FRANCISCO</td>\n",
       "      <td>NaN</td>\n",
       "      <td>14</td>\n",
       "      <td>http://www.tse.jus.br/partidos/partidos-politicos/partido-trabalhista-brasileiro</td>\n",
       "    </tr>\n",
       "    <tr>\n",
       "      <th>2</th>\n",
       "      <td>3</td>\n",
       "      <td>PDT</td>\n",
       "      <td>PARTIDO DEMOCRÁTICO TRABALHISTA</td>\n",
       "      <td>10.11.1981</td>\n",
       "      <td>CARLOS LUPI</td>\n",
       "      <td>NaN</td>\n",
       "      <td>12</td>\n",
       "      <td>http://www.tse.jus.br/partidos/partidos-politicos/partido-democratico-trabalhista</td>\n",
       "    </tr>\n",
       "    <tr>\n",
       "      <th>3</th>\n",
       "      <td>4</td>\n",
       "      <td>PT</td>\n",
       "      <td>PARTIDO DOS TRABALHADORES</td>\n",
       "      <td>11.2.1982</td>\n",
       "      <td>RUI GOETHE DA COSTA FALCAO</td>\n",
       "      <td>NaN</td>\n",
       "      <td>13</td>\n",
       "      <td>http://www.tse.jus.br/partidos/partidos-politicos/partido-dos-trabalhadores</td>\n",
       "    </tr>\n",
       "    <tr>\n",
       "      <th>4</th>\n",
       "      <td>5</td>\n",
       "      <td>DEM</td>\n",
       "      <td>DEMOCRATAS</td>\n",
       "      <td>11.9.1986</td>\n",
       "      <td>JOSÉ AGRIPINO MAIA</td>\n",
       "      <td>NaN</td>\n",
       "      <td>25</td>\n",
       "      <td>http://www.tse.jus.br/partidos/partidos-politicos/democratas</td>\n",
       "    </tr>\n",
       "  </tbody>\n",
       "</table>\n",
       "</div>"
      ],
      "text/plain": [
       "   0001 SIGLA                                         NOME DEFERIMENTO  \\\n",
       "0     1  PMDB  PARTIDO DO MOVIMENTO DEMOCRÁTICO BRASILEIRO   30.6.1981   \n",
       "1     2   PTB               PARTIDO TRABALHISTA BRASILEIRO   3.11.1981   \n",
       "2     3   PDT              PARTIDO DEMOCRÁTICO TRABALHISTA  10.11.1981   \n",
       "3     4    PT                    PARTIDO DOS TRABALHADORES   11.2.1982   \n",
       "4     5   DEM                                   DEMOCRATAS   11.9.1986   \n",
       "\n",
       "                        PRES. NACIONAL            FUNÇÃO EM EXERCÍCIO  \\\n",
       "0                           ROMERO JUCÁ   no exercício da presidência   \n",
       "1  ROBERTO JEFFERSON MONTEIRO FRANCISCO                           NaN   \n",
       "2                           CARLOS LUPI                           NaN   \n",
       "3            RUI GOETHE DA COSTA FALCAO                           NaN   \n",
       "4                    JOSÉ AGRIPINO MAIA                           NaN   \n",
       "\n",
       "   Nº DA LEGENDA  \\\n",
       "0             15   \n",
       "1             14   \n",
       "2             12   \n",
       "3             13   \n",
       "4             25   \n",
       "\n",
       "                                                                                          tseurl  \n",
       "0  http://www.tse.jus.br/partidos/partidos-politicos/partido-do-movimento-democratico-brasileiro  \n",
       "1               http://www.tse.jus.br/partidos/partidos-politicos/partido-trabalhista-brasileiro  \n",
       "2              http://www.tse.jus.br/partidos/partidos-politicos/partido-democratico-trabalhista  \n",
       "3                    http://www.tse.jus.br/partidos/partidos-politicos/partido-dos-trabalhadores  \n",
       "4                                   http://www.tse.jus.br/partidos/partidos-politicos/democratas  "
      ]
     },
     "execution_count": 4,
     "metadata": {},
     "output_type": "execute_result"
    }
   ],
   "source": [
    "#Saving data intro a dataframe\n",
    "partiescsv = pd.read_csv('parties.csv', index_col=False, header=0);\n",
    "\n",
    "#Adding TSE Url to dataframe\n",
    "partiescsv['tseurl'] = ''\n",
    "siglas = partiescsv.SIGLA.apply(str.strip)\n",
    "\n",
    "for website_found in parties.find_all('a', class_='internal-link'):\n",
    "    index = siglas[siglas == website_found.text].index\n",
    "    partiescsv.set_value(index, 'tseurl', str(website_found['href']))\n",
    "    \n",
    "partiescsv.head()\n",
    "\n",
    "#TODO: \n",
    "#1. TSE url truncating\n"
   ]
  },
  {
   "cell_type": "code",
   "execution_count": null,
   "metadata": {},
   "outputs": [
    {
     "name": "stdout",
     "output_type": "stream",
     "text": [
      "<filter object at 0x1104a0b00>\n",
      "<filter object at 0x10f7c1f28>\n",
      "<filter object at 0x1104a07f0>\n",
      "<filter object at 0x110437e80>\n",
      "<filter object at 0x110281630>\n",
      "<filter object at 0x104f2f390>\n",
      "<filter object at 0x1109bc0b8>\n",
      "<filter object at 0x1103e3198>\n",
      "<filter object at 0x1102797b8>\n",
      "<filter object at 0x10f7c3e10>\n",
      "<filter object at 0x1107dbf60>\n",
      "<filter object at 0x10f89a7f0>\n",
      "<filter object at 0x10f9b3ef0>\n",
      "<filter object at 0x10f9b3f28>\n",
      "<filter object at 0x11072ba58>\n",
      "<filter object at 0x10f7b9080>\n",
      "<filter object at 0x1102f4d68>\n",
      "<filter object at 0x1109e66d8>\n",
      "<filter object at 0x1109e6fd0>\n",
      "<filter object at 0x10f946a20>\n",
      "<filter object at 0x110317be0>\n",
      "<filter object at 0x110789198>\n",
      "<filter object at 0x110319080>\n",
      "<filter object at 0x10fb36f28>\n"
     ]
    }
   ],
   "source": [
    "#Fetching further party information from TSE's website\n",
    "tse_party_url = partiescsv['tseurl'][0]\n",
    "\n",
    "urls = partiescsv['tseurl']\n",
    "\n",
    "#Adding Party fields to dataframe\n",
    "partiescsv['telefones'] = ''\n",
    "partiescsv['fax'] = ''\n",
    "partiescsv['cep'] = ''\n",
    "partiescsv['email'] = ''\n",
    "\n",
    "for tseurl in partiescsv['tseurl']:\n",
    "    index = urls[urls == tseurl].index\n",
    "    \n",
    "    #Getting the HTML and isolating the section we need \n",
    "    party_soup = BeautifulSoup(requests.get(tseurl).content, 'html.parser')\n",
    "#    party_soup_content = pmdb_soup.find_all(class_='documentContent')[0]#.get_text()\n",
    "    party_infos = party_soup.find_all(\"h3\", string=\"Informações sobre o partido\")[0].parent#.find_parent(\"table\")\n",
    "    #print(pmdb_infos)\n",
    "    #print(party_infos.prettify())\n",
    "    phones = party_infos.find_all(\"p\", string=re.compile('Telefone'))\n",
    "    phones = phones[0].text.split(':')[1] if len(phones) > 0 else 'null'\n",
    "    fax = party_infos.find_all(\"p\", string=re.compile('FAX:'))\n",
    "    fax = fax[0].text.split(':')[1] if len(fax) > 0 else 'null'\n",
    "    cep = party_infos.find_all(\"p\", string=re.compile('CEP:'))\n",
    "    cep = cep[0].text.split(':')[1] if len(cep) > 0 else 'null'\n",
    "    emails = [a.text for a in party_infos.select('a[href^=mailto:]')]\n",
    "    emails2 = party_infos.find_all(string=re.compile(r'\\S*@\\S*'))\n",
    "    regex = re.compile(r'(<?P email>\\S*\\@\\S*)')\n",
    "    for item in emails2:\n",
    "        if re.match(regex, item):\n",
    "            print(re.match(regex, item).group('email'))\n",
    "    items2 = filter(regex.search, emails)\n",
    "    print(items2)\n",
    "        \n",
    "    partiescsv.set_value(index, 'telefones', str(phones))\n",
    "    partiescsv.set_value(index, 'fax', str(fax))\n",
    "    partiescsv.set_value(index, 'cep', str(cep))\n",
    "    partiescsv.set_value(index, 'email', str(emails))\n",
    "\n",
    "\n",
    "\n",
    "#TODO:\n",
    "#1. Improve email detection\n",
    "#2. Implement party website detection\n",
    "#4. Drop initial trash columns "
   ]
  },
  {
   "cell_type": "code",
   "execution_count": 6,
   "metadata": {
    "collapsed": true
   },
   "outputs": [],
   "source": [
    "#Saving computed data out \n",
    "\n",
    "#partiescsv.drop('0001', axis=1, inplace=True)\n",
    "#partiescsv.drop('Unnamed: 0', axis=1, inplace=True)\n",
    "partiescsv.to_csv('parties1.csv', encoding='utf-8')"
   ]
  },
  {
   "cell_type": "code",
   "execution_count": 53,
   "metadata": {},
   "outputs": [
    {
     "data": {
      "text/plain": [
       "[':', 'pmb@pmb.org.br']"
      ]
     },
     "execution_count": 53,
     "metadata": {},
     "output_type": "execute_result"
    }
   ],
   "source": [
    "test[0].split(' ')"
   ]
  },
  {
   "cell_type": "code",
   "execution_count": null,
   "metadata": {
    "collapsed": true
   },
   "outputs": [],
   "source": []
  }
 ],
 "metadata": {
  "kernelspec": {
   "display_name": "Python 3",
   "language": "python",
   "name": "python3"
  },
  "language_info": {
   "codemirror_mode": {
    "name": "ipython",
    "version": 3
   },
   "file_extension": ".py",
   "mimetype": "text/x-python",
   "name": "python",
   "nbconvert_exporter": "python",
   "pygments_lexer": "ipython3",
   "version": "3.6.1"
  }
 },
 "nbformat": 4,
 "nbformat_minor": 2
}
