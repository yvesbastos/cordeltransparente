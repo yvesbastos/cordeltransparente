{
 "cells": [
  {
   "cell_type": "code",
   "execution_count": 88,
   "metadata": {},
   "outputs": [],
   "source": [
    "import requests \n",
    "import csv\n",
    "from bs4 import BeautifulSoup\n",
    "import numpy as np\n",
    "import pandas as pd\n",
    "import re \n",
    "pd.set_option('display.max_colwidth', 1000)"
   ]
  },
  {
   "cell_type": "code",
   "execution_count": null,
   "metadata": {
    "collapsed": true
   },
   "outputs": [],
   "source": [
    "#Getting the HTML and isolating the section we need \n",
    "tse_parties = requests.get(\"http://www.tse.jus.br/partidos/partidos-politicos/registrados-no-tse\")\n",
    "tse_soup = BeautifulSoup(tse_parties.content, 'html.parser')\n",
    "tse_soup_content = tse_soup.find_all(class_='documentContent')[0]#.get_text()\n",
    "parties = tse_soup.find(\"caption\", text=\"Partidos registrados no TSE\").find_parent(\"table\")"
   ]
  },
  {
   "cell_type": "code",
   "execution_count": 27,
   "metadata": {
    "collapsed": true
   },
   "outputs": [],
   "source": [
    "#Interpreting the data to save in a .csv\n",
    "headers = \"\"\n",
    "for val in parties.find_all('th'):\n",
    "    headers += val.text + ','\n",
    "headers = headers[:-1]\n",
    "\n",
    "rows = []\n",
    "for row in parties.find_all('tr'):\n",
    "    row1 = \"\"\n",
    "    for val in row.find_all('td'):\n",
    "        row1 += val.text + ','\n",
    "    row1 = row1[:-1]\n",
    "    rows.append(row1)\n",
    "    \n",
    "#Removing last line\n",
    "rows = rows[:-1]\n",
    "\n",
    "with open('parties.csv', 'w') as f:\n",
    "    writer = csv.writer(f)\n",
    "    #writer = csv.writer(f)\n",
    "    header = (headers).encode(\"utf-8\")\n",
    "    writer.writerow([header])\n",
    "    for row in rows:\n",
    "        outputrow = (row).encode(\"utf-8\")\n",
    "        writer.writerow([outputrow])#(row)\n",
    "\n",
    "#TODO: clean quotes - currently being done manually"
   ]
  },
  {
   "cell_type": "code",
   "execution_count": 30,
   "metadata": {},
   "outputs": [
    {
     "data": {
      "text/html": [
       "<div style=\"max-height:1000px;max-width:1500px;overflow:auto;\">\n",
       "<table border=\"1\" class=\"dataframe\">\n",
       "  <thead>\n",
       "    <tr style=\"text-align: right;\">\n",
       "      <th></th>\n",
       "      <th>Unnamed: 0</th>\n",
       "      <th>0001</th>\n",
       "      <th>SIGLA</th>\n",
       "      <th>NOME</th>\n",
       "      <th>DEFERIMENTO</th>\n",
       "      <th>PRES. NACIONAL </th>\n",
       "      <th>Nº DA LEGENDA</th>\n",
       "      <th>tseurl</th>\n",
       "    </tr>\n",
       "  </thead>\n",
       "  <tbody>\n",
       "    <tr>\n",
       "      <th>0</th>\n",
       "      <td> 0</td>\n",
       "      <td> 1</td>\n",
       "      <td> PMDB</td>\n",
       "      <td> PARTIDO DO MOVIMENTO DEMOCRÁTICO BRASILEIRO</td>\n",
       "      <td>  30.6.1981</td>\n",
       "      <td>                          ROMERO JUCÁ</td>\n",
       "      <td> 15</td>\n",
       "      <td> http://www.tse.jus.br/partidos/partidos-politicos/partido-do-movimento-democratico-brasileiro</td>\n",
       "    </tr>\n",
       "    <tr>\n",
       "      <th>1</th>\n",
       "      <td> 1</td>\n",
       "      <td> 2</td>\n",
       "      <td>  PTB</td>\n",
       "      <td>              PARTIDO TRABALHISTA BRASILEIRO</td>\n",
       "      <td>  3.11.1981</td>\n",
       "      <td> ROBERTO JEFFERSON MONTEIRO FRANCISCO</td>\n",
       "      <td> 14</td>\n",
       "      <td>              http://www.tse.jus.br/partidos/partidos-politicos/partido-trabalhista-brasileiro</td>\n",
       "    </tr>\n",
       "    <tr>\n",
       "      <th>2</th>\n",
       "      <td> 2</td>\n",
       "      <td> 3</td>\n",
       "      <td>  PDT</td>\n",
       "      <td>             PARTIDO DEMOCRÁTICO TRABALHISTA</td>\n",
       "      <td> 10.11.1981</td>\n",
       "      <td>                          CARLOS LUPI</td>\n",
       "      <td> 12</td>\n",
       "      <td>             http://www.tse.jus.br/partidos/partidos-politicos/partido-democratico-trabalhista</td>\n",
       "    </tr>\n",
       "    <tr>\n",
       "      <th>3</th>\n",
       "      <td> 3</td>\n",
       "      <td> 4</td>\n",
       "      <td>   PT</td>\n",
       "      <td>                   PARTIDO DOS TRABALHADORES</td>\n",
       "      <td>  11.2.1982</td>\n",
       "      <td>           RUI GOETHE DA COSTA FALCAO</td>\n",
       "      <td> 13</td>\n",
       "      <td>                   http://www.tse.jus.br/partidos/partidos-politicos/partido-dos-trabalhadores</td>\n",
       "    </tr>\n",
       "    <tr>\n",
       "      <th>4</th>\n",
       "      <td> 4</td>\n",
       "      <td> 5</td>\n",
       "      <td>  DEM</td>\n",
       "      <td>                                  DEMOCRATAS</td>\n",
       "      <td>  11.9.1986</td>\n",
       "      <td>                   JOSÉ AGRIPINO MAIA</td>\n",
       "      <td> 25</td>\n",
       "      <td>                                  http://www.tse.jus.br/partidos/partidos-politicos/democratas</td>\n",
       "    </tr>\n",
       "  </tbody>\n",
       "</table>\n",
       "</div>"
      ],
      "text/plain": [
       "   Unnamed: 0  0001 SIGLA                                         NOME  \\\n",
       "0           0     1  PMDB  PARTIDO DO MOVIMENTO DEMOCRÁTICO BRASILEIRO   \n",
       "1           1     2   PTB               PARTIDO TRABALHISTA BRASILEIRO   \n",
       "2           2     3   PDT              PARTIDO DEMOCRÁTICO TRABALHISTA   \n",
       "3           3     4    PT                    PARTIDO DOS TRABALHADORES   \n",
       "4           4     5   DEM                                   DEMOCRATAS   \n",
       "\n",
       "  DEFERIMENTO                       PRES. NACIONAL   Nº DA LEGENDA  \\\n",
       "0   30.6.1981                           ROMERO JUCÁ             15   \n",
       "1   3.11.1981  ROBERTO JEFFERSON MONTEIRO FRANCISCO             14   \n",
       "2  10.11.1981                           CARLOS LUPI             12   \n",
       "3   11.2.1982            RUI GOETHE DA COSTA FALCAO             13   \n",
       "4   11.9.1986                    JOSÉ AGRIPINO MAIA             25   \n",
       "\n",
       "                                                                                          tseurl  \n",
       "0  http://www.tse.jus.br/partidos/partidos-politicos/partido-do-movimento-democratico-brasileiro  \n",
       "1               http://www.tse.jus.br/partidos/partidos-politicos/partido-trabalhista-brasileiro  \n",
       "2              http://www.tse.jus.br/partidos/partidos-politicos/partido-democratico-trabalhista  \n",
       "3                    http://www.tse.jus.br/partidos/partidos-politicos/partido-dos-trabalhadores  \n",
       "4                                   http://www.tse.jus.br/partidos/partidos-politicos/democratas  "
      ]
     },
     "execution_count": 30,
     "metadata": {},
     "output_type": "execute_result"
    }
   ],
   "source": [
    "#Saving data intro a dataframe\n",
    "partiescsv = pd.read_csv('parties.csv', index_col=False, header=0);\n",
    "\n",
    "#Adding TSE Url to dataframe\n",
    "partiescsv['tseurl'] = ''\n",
    "siglas = partiescsv['SIGLA']\n",
    "\n",
    "for website_found in parties.find_all('a', class_='internal-link'):\n",
    "    index = siglas[siglas == website_found.text].index\n",
    "    partiescsv.set_value(index, 'tseurl', str(website_found['href']))\n",
    "    \n",
    "partiescsv.head()\n",
    "#print partiescsv\n",
    "\n",
    "#TODO: \n",
    "#1. TSE url truncating\n",
    "#2. 'no exercicio da presidencia' cleaned manually\n",
    "\n",
    "\n",
    "#Saving computed data out \n",
    "#partiescsv.to_csv('parties.csv', encoding='utf-8')"
   ]
  },
  {
   "cell_type": "code",
   "execution_count": null,
   "metadata": {
    "collapsed": true
   },
   "outputs": [],
   "source": [
    "#Fetching further party information from TSE's website\n",
    "pmdb_url = partiescsv['tseurl'][4]\n",
    "\n",
    "#Getting the HTML and isolating the section we need \n",
    "pmdb_soup = BeautifulSoup(requests.get(pmdb_url).content, 'html.parser')\n",
    "pmdb_soup_content = pmdb_soup.find_all(class_='documentContent')[0]#.get_text()\n",
    "pmdb_infos = pmdb_soup.find_all(\"h3\", text=\"Informações sobre o partido\")[0].parent#.find_parent(\"table\")\n",
    "\n",
    "#print(pmdb_infos)\n",
    "pmdb_telefones = pmdb_infos.find_all(\"p\", text=re.compile('Telefone'))[0].text\n",
    "pmdb_fax = pmdb_infos.find_all(\"p\", text=re.compile('FAX:'))[0].text\n",
    "pmdb_cep = pmdb_infos.find_all(\"p\", text=re.compile('CEP:'))[0].text\n",
    "#pmdb_site = pmdb_infos.find_all(\"a\", class_='mail-link')[0]['href']# text=re.compile('Email'))#[0].text\n",
    "\n",
    "print(pmdb_infos.find_all(\"p\")[4])#, text=re.compile('Email:')))\n",
    "#print(pmdb_telefones)\n",
    "\n",
    "\n",
    "#r\"(^[a-zA-Z0-9_.+-]+@[a-zA-Z0-9-]+\\.[a-zA-Z0-9-.]+$)\"\n"
   ]
  },
  {
   "cell_type": "code",
   "execution_count": null,
   "metadata": {
    "collapsed": true
   },
   "outputs": [],
   "source": []
  }
 ],
 "metadata": {
  "kernelspec": {
   "display_name": "Python 3",
   "language": "python",
   "name": "python3"
  },
  "language_info": {
   "codemirror_mode": {
    "name": "ipython",
    "version": 2
   },
   "file_extension": ".py",
   "mimetype": "text/x-python",
   "name": "python",
   "nbconvert_exporter": "python",
   "pygments_lexer": "ipython2",
   "version": "2.7.13"
  }
 },
 "nbformat": 4,
 "nbformat_minor": 2
}
