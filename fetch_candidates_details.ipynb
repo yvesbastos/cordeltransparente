{
 "cells": [
  {
   "cell_type": "code",
   "execution_count": 19,
   "metadata": {
    "collapsed": true
   },
   "outputs": [],
   "source": [
    "#IMPORTS \n",
    "\n",
    "import requests\n",
    "import pandas as pd\n",
    "import numpy as np\n",
    "from urllib import urlretrieve"
   ]
  },
  {
   "cell_type": "code",
   "execution_count": 20,
   "metadata": {
    "collapsed": true
   },
   "outputs": [],
   "source": [
    "#VARIABLES\n",
    "\n",
    "CANDIDATESLISTURL = 'http://agencia.tse.jus.br/estatistica/sead/odsele/consulta_cand/consulta_cand_{}.zip'\n",
    "CANDIDATESWEALTHURL = 'http://agencia.tse.jus.br/estatistica/sead/odsele/bem_candidato/bem_candidato_{}.zip'\n",
    "\n",
    "OUTPUTDIR = 'data/'\n",
    "\n",
    "candidacy_years = [\n",
    "    \"1986\", \"1989\", \"1990\", \"1992\", \"1994\",\n",
    "    \"1996\", \"1998\", \"2000\", \"2002\", \"2004\",\n",
    "    \"2006\", \"2008\", \"2010\", \"2012\", \"2014\",\n",
    "    \"2016\"]\n",
    "\n"
   ]
  },
  {
   "cell_type": "code",
   "execution_count": 21,
   "metadata": {
    "collapsed": true
   },
   "outputs": [],
   "source": [
    "#FETCH FUNCTIONS \n",
    "\n",
    "\n",
    "def fetch_candidates_by_year():\n",
    "    for year in candidacy_years:\n",
    "        url = CANDIDATESLISTURL.format(year)\n",
    "        filepath = OUTPUTDIR + 'candidateslist' + year + \".zip\"\n",
    "        print('Downloading list for year %s' % year)\n",
    "        urlretrieve(url, filepath)\n",
    "        print('Saved %s' % year)\n",
    "\n",
    "\n",
    "def fetch_candidates_wealth():\n",
    "    for year in candidacy_years:\n",
    "        url = CANDIDATESWEALTHURL.format(year)\n",
    "        filepath = OUTPUTDIR + 'candidateswealth' + year + '.zip'\n",
    "        print('Downloading wealth for year %s' % year)\n",
    "        urlretrieve(url, filepath)\n",
    "        print('Saved %s' % year)\n"
   ]
  },
  {
   "cell_type": "code",
   "execution_count": 23,
   "metadata": {},
   "outputs": [
    {
     "name": "stdout",
     "output_type": "stream",
     "text": [
      "Downloading list for year 1986\n",
      "Saved 1986\n",
      "Downloading list for year 1989\n",
      "Saved 1989\n",
      "Downloading list for year 1990\n",
      "Saved 1990\n",
      "Downloading list for year 1992\n",
      "Saved 1992\n",
      "Downloading list for year 1994\n",
      "Saved 1994\n",
      "Downloading list for year 1996\n",
      "Saved 1996\n",
      "Downloading list for year 1998\n",
      "Saved 1998\n",
      "Downloading list for year 2000\n",
      "Saved 2000\n",
      "Downloading list for year 2002\n",
      "Saved 2002\n",
      "Downloading list for year 2004\n",
      "Saved 2004\n",
      "Downloading list for year 2006\n",
      "Saved 2006\n",
      "Downloading list for year 2008\n",
      "Saved 2008\n",
      "Downloading list for year 2010\n",
      "Saved 2010\n",
      "Downloading list for year 2012\n",
      "Saved 2012\n",
      "Downloading list for year 2014\n",
      "Saved 2014\n",
      "Downloading list for year 2016\n",
      "Saved 2016\n",
      "Downloading wealth for year 1986\n",
      "Saved 1986\n",
      "Downloading wealth for year 1989\n",
      "Saved 1989\n",
      "Downloading wealth for year 1990\n",
      "Saved 1990\n",
      "Downloading wealth for year 1992\n",
      "Saved 1992\n",
      "Downloading wealth for year 1994\n",
      "Saved 1994\n",
      "Downloading wealth for year 1996\n",
      "Saved 1996\n",
      "Downloading wealth for year 1998\n",
      "Saved 1998\n",
      "Downloading wealth for year 2000\n",
      "Saved 2000\n",
      "Downloading wealth for year 2002\n",
      "Saved 2002\n",
      "Downloading wealth for year 2004\n",
      "Saved 2004\n",
      "Downloading wealth for year 2006\n",
      "Saved 2006\n",
      "Downloading wealth for year 2008\n",
      "Saved 2008\n",
      "Downloading wealth for year 2010\n",
      "Saved 2010\n",
      "Downloading wealth for year 2012\n",
      "Saved 2012\n",
      "Downloading wealth for year 2014\n",
      "Saved 2014\n",
      "Downloading wealth for year 2016\n",
      "Saved 2016\n"
     ]
    }
   ],
   "source": [
    "#FUNCTION CALLS \n",
    "\n",
    "\n",
    "\n",
    "fetch_candidates_by_year()\n",
    "fetch_candidates_wealth()"
   ]
  },
  {
   "cell_type": "code",
   "execution_count": null,
   "metadata": {
    "collapsed": true
   },
   "outputs": [],
   "source": []
  }
 ],
 "metadata": {
  "kernelspec": {
   "display_name": "Python 3",
   "language": "python",
   "name": "python3"
  },
  "language_info": {
   "codemirror_mode": {
    "name": "ipython",
    "version": 2
   },
   "file_extension": ".py",
   "mimetype": "text/x-python",
   "name": "python",
   "nbconvert_exporter": "python",
   "pygments_lexer": "ipython2",
   "version": "2.7.13"
  }
 },
 "nbformat": 4,
 "nbformat_minor": 2
}
