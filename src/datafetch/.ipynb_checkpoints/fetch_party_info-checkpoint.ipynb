{
 "cells": [
  {
   "cell_type": "code",
   "execution_count": 207,
   "metadata": {
    "collapsed": true
   },
   "outputs": [],
   "source": [
    "import requests \n",
    "import csv\n",
    "from bs4 import BeautifulSoup\n",
    "import numpy as np\n",
    "import pandas as pd\n",
    "\n",
    "#Getting the HTML and isolating the section we need \n",
    "\n",
    "page = requests.get(\"http://www.tse.jus.br/partidos/partidos-politicos/registrados-no-tse\")\n",
    "soup = BeautifulSoup(page.content, 'html.parser')\n",
    "body = soup.find_all(class_='documentContent')[0]#.get_text()\n",
    "parties = soup.find(\"caption\", text=\"Partidos registrados no TSE\").find_parent(\"table\")"
   ]
  },
  {
   "cell_type": "code",
   "execution_count": 238,
   "metadata": {},
   "outputs": [],
   "source": [
    "#Interpreting the data to save in a .csv\n",
    "headers = \"\"\n",
    "for val in parties.find_all('th'):\n",
    "    headers += val.text + ','\n",
    "headers = headers[:-1]\n",
    "\n",
    "rows = []\n",
    "for row in parties.find_all('tr'):\n",
    "    row1 = \"\"\n",
    "    for val in row.find_all('td'):\n",
    "        row1 += val.text + ','\n",
    "    row1 = row1[:-1]\n",
    "    rows.append(row1)\n",
    "    \n",
    "#Removing last line\n",
    "rows = rows[:-1]\n",
    "\n",
    "with open('parties.csv', 'w') as f:\n",
    "    writer = csv.writer(f)\n",
    "    #writer = csv.writer(f)\n",
    "    header = (headers).encode(\"utf-8\")\n",
    "    writer.writerow([header])\n",
    "    for row in rows:\n",
    "        outputrow = (row).encode(\"utf-8\")\n",
    "        writer.writerow([outputrow])#(row)\n",
    "\n",
    "#TODO: clean quotes - currently being done manually"
   ]
  },
  {
   "cell_type": "code",
   "execution_count": 241,
   "metadata": {},
   "outputs": [
    {
     "data": {
      "text/html": [
       "<div style=\"max-height:1000px;max-width:1500px;overflow:auto;\">\n",
       "<table border=\"1\" class=\"dataframe\">\n",
       "  <thead>\n",
       "    <tr style=\"text-align: right;\">\n",
       "      <th></th>\n",
       "      <th>0001</th>\n",
       "      <th>SIGLA</th>\n",
       "      <th>NOME</th>\n",
       "      <th>DEFERIMENTO</th>\n",
       "      <th>PRES. NACIONAL </th>\n",
       "      <th>Nº DA LEGENDA</th>\n",
       "    </tr>\n",
       "  </thead>\n",
       "  <tbody>\n",
       "    <tr>\n",
       "      <th>0</th>\n",
       "      <td> 1</td>\n",
       "      <td> PMDB</td>\n",
       "      <td> PARTIDO DO MOVIMENTO DEMOCRÁTICO BRASILEIRO</td>\n",
       "      <td>  30.6.1981</td>\n",
       "      <td>                          ROMERO JUCÁ</td>\n",
       "      <td>  no exercício da presidência</td>\n",
       "    </tr>\n",
       "    <tr>\n",
       "      <th>1</th>\n",
       "      <td> 2</td>\n",
       "      <td>  PTB</td>\n",
       "      <td>              PARTIDO TRABALHISTA BRASILEIRO</td>\n",
       "      <td>  3.11.1981</td>\n",
       "      <td> ROBERTO JEFFERSON MONTEIRO FRANCISCO</td>\n",
       "      <td>                           14</td>\n",
       "    </tr>\n",
       "    <tr>\n",
       "      <th>2</th>\n",
       "      <td> 3</td>\n",
       "      <td>  PDT</td>\n",
       "      <td>             PARTIDO DEMOCRÁTICO TRABALHISTA</td>\n",
       "      <td> 10.11.1981</td>\n",
       "      <td>                          CARLOS LUPI</td>\n",
       "      <td>                           12</td>\n",
       "    </tr>\n",
       "    <tr>\n",
       "      <th>3</th>\n",
       "      <td> 4</td>\n",
       "      <td>   PT</td>\n",
       "      <td>                   PARTIDO DOS TRABALHADORES</td>\n",
       "      <td>  11.2.1982</td>\n",
       "      <td>           RUI GOETHE DA COSTA FALCAO</td>\n",
       "      <td>                           13</td>\n",
       "    </tr>\n",
       "    <tr>\n",
       "      <th>4</th>\n",
       "      <td> 5</td>\n",
       "      <td>  DEM</td>\n",
       "      <td>                                  DEMOCRATAS</td>\n",
       "      <td>  11.9.1986</td>\n",
       "      <td>                   JOSÉ AGRIPINO MAIA</td>\n",
       "      <td>                           25</td>\n",
       "    </tr>\n",
       "  </tbody>\n",
       "</table>\n",
       "</div>"
      ],
      "text/plain": [
       "   0001 SIGLA                                         NOME DEFERIMENTO  \\\n",
       "0     1  PMDB  PARTIDO DO MOVIMENTO DEMOCRÁTICO BRASILEIRO   30.6.1981   \n",
       "1     2   PTB               PARTIDO TRABALHISTA BRASILEIRO   3.11.1981   \n",
       "2     3   PDT              PARTIDO DEMOCRÁTICO TRABALHISTA  10.11.1981   \n",
       "3     4    PT                    PARTIDO DOS TRABALHADORES   11.2.1982   \n",
       "4     5   DEM                                   DEMOCRATAS   11.9.1986   \n",
       "\n",
       "                        PRES. NACIONAL                  Nº DA LEGENDA  \n",
       "0                           ROMERO JUCÁ   no exercício da presidência  \n",
       "1  ROBERTO JEFFERSON MONTEIRO FRANCISCO                            14  \n",
       "2                           CARLOS LUPI                            12  \n",
       "3            RUI GOETHE DA COSTA FALCAO                            13  \n",
       "4                    JOSÉ AGRIPINO MAIA                            25  "
      ]
     },
     "execution_count": 241,
     "metadata": {},
     "output_type": "execute_result"
    }
   ],
   "source": [
    "partiescsv = pd.read_csv('parties.csv', index_col=False, header=0);\n",
    "partiescsv.head()\n",
    "\n",
    "#TODO: \n",
    "#1. GET TSE url page for all \n"
   ]
  }
 ],
 "metadata": {
  "kernelspec": {
   "display_name": "Python 3",
   "language": "python",
   "name": "python3"
  },
  "language_info": {
   "codemirror_mode": {
    "name": "ipython",
    "version": 2
   },
   "file_extension": ".py",
   "mimetype": "text/x-python",
   "name": "python",
   "nbconvert_exporter": "python",
   "pygments_lexer": "ipython2",
   "version": "2.7.13"
  }
 },
 "nbformat": 4,
 "nbformat_minor": 2
}
